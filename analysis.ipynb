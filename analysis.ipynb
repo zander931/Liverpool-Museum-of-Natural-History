{
 "cells": [
  {
   "cell_type": "markdown",
   "metadata": {},
   "source": [
    "# Analysis on Museum Visitor data"
   ]
  },
  {
   "cell_type": "code",
   "execution_count": 2,
   "metadata": {},
   "outputs": [],
   "source": [
    "from os import environ as ENV\n",
    "from psycopg2 import connect\n",
    "from psycopg2.extensions import connection\n",
    "from psycopg2.extras import RealDictCursor\n",
    "from dotenv import load_dotenv"
   ]
  },
  {
   "cell_type": "code",
   "execution_count": 3,
   "metadata": {},
   "outputs": [
    {
     "data": {
      "text/plain": [
       "True"
      ]
     },
     "execution_count": 3,
     "metadata": {},
     "output_type": "execute_result"
    }
   ],
   "source": [
    "load_dotenv()"
   ]
  },
  {
   "cell_type": "code",
   "execution_count": 4,
   "metadata": {},
   "outputs": [],
   "source": [
    "conn = connect(\n",
    "    host=ENV['DB_HOST'],\n",
    "    port=ENV['DB_PORT'],\n",
    "    user=ENV['DB_USER'],\n",
    "    password=ENV['DB_PASS'],\n",
    "    database=ENV['DB_NAME'], \n",
    "    cursor_factory=RealDictCursor\n",
    ")"
   ]
  },
  {
   "cell_type": "markdown",
   "metadata": {},
   "source": [
    "### 1. What exhibition is most frequently visited?"
   ]
  },
  {
   "cell_type": "code",
   "execution_count": 5,
   "metadata": {},
   "outputs": [
    {
     "name": "stdout",
     "output_type": "stream",
     "text": [
      "Exhibition: EXH_04, Name: Our Polluted World, Count: 481\n"
     ]
    }
   ],
   "source": [
    "with conn.cursor() as cur:\n",
    "    query = \"\"\"\n",
    "        SELECT \n",
    "            e.public_id Exhibition,\n",
    "            e.exhibition_name,\n",
    "            count(exhibition_id) \n",
    "        FROM rating_interaction\n",
    "        join exhibition e using(exhibition_id)\n",
    "        GROUP BY public_id, e.exhibition_name\n",
    "        ORDER BY count DESC\n",
    "        LIMIT 1;\n",
    "    \"\"\"\n",
    "    cur.execute(query)\n",
    "    most_visited = cur.fetchone()\n",
    "print(f\"Exhibition: {most_visited['exhibition']}, Name: {most_visited['exhibition_name']}, Count: {most_visited['count']}\")"
   ]
  },
  {
   "cell_type": "markdown",
   "metadata": {},
   "source": [
    "More people interact with the kiosks if more people visit the exhibits, thus the largest number of ratings coincides with the most frequently visited exhibition."
   ]
  },
  {
   "cell_type": "markdown",
   "metadata": {},
   "source": [
    "### 2. What hour of the day has the most ratings?"
   ]
  },
  {
   "cell_type": "code",
   "execution_count": 6,
   "metadata": {},
   "outputs": [
    {
     "name": "stdout",
     "output_type": "stream",
     "text": [
      "Hour of day: 18\n"
     ]
    }
   ],
   "source": [
    "with conn.cursor() as cur:\n",
    "    query = \"\"\"\n",
    "        SELECT\n",
    "            EXTRACT(HOUR FROM event_at) hour_of_day\n",
    "        FROM rating_interaction\n",
    "        GROUP BY hour_of_day\n",
    "        ORDER BY hour_of_day DESC\n",
    "        LIMIT 1;\n",
    "    \"\"\"\n",
    "    cur.execute(query)\n",
    "    most_active = cur.fetchone()\n",
    "print(f\"Hour of day: {most_active['hour_of_day']}\")"
   ]
  },
  {
   "cell_type": "markdown",
   "metadata": {},
   "source": [
    "The hour of the day with the most ratings across all exhibitions is from 6pm GMT, shown above in the 24-hour format."
   ]
  },
  {
   "cell_type": "markdown",
   "metadata": {},
   "source": [
    "### 3. What exhibition has the most emergencies?"
   ]
  },
  {
   "cell_type": "code",
   "execution_count": 7,
   "metadata": {},
   "outputs": [
    {
     "name": "stdout",
     "output_type": "stream",
     "text": [
      "Name: The Crenshaw Collection, ID: EXH_02, Count = 2\n"
     ]
    }
   ],
   "source": [
    "with conn.cursor() as cur:\n",
    "    query = \"\"\"\n",
    "        SELECT\n",
    "            e.exhibition_name,\n",
    "            e.public_id,\n",
    "            count(r.request_value)\n",
    "        FROM request_interaction\n",
    "        JOIN request r USING(request_id)\n",
    "        JOIN exhibition e USING(exhibition_id)\n",
    "        WHERE request_value = 1\n",
    "        GROUP BY e.exhibition_name, e.public_id\n",
    "        ORDER BY count DESC\n",
    "        LIMIT 1;\n",
    "    \"\"\"\n",
    "    cur.execute(query)\n",
    "    most_emergent = cur.fetchone()\n",
    "print(f\"Name: {most_emergent['exhibition_name']}, ID: {most_emergent['public_id']}, Count = {most_emergent['count']}\")"
   ]
  },
  {
   "cell_type": "markdown",
   "metadata": {},
   "source": [
    "The Crenshaw Collection ('EXH_002') is the exhibit with the most amount of emergencies, and also the only exhibit with any emergencies."
   ]
  },
  {
   "cell_type": "markdown",
   "metadata": {},
   "source": [
    "### 4. What is the average rating for each exhibition?"
   ]
  },
  {
   "cell_type": "code",
   "execution_count": 10,
   "metadata": {},
   "outputs": [
    {
     "name": "stdout",
     "output_type": "stream",
     "text": [
      "Name: Cetacean Sensations, ID: EXH_03, Average Rating: 2.83\n",
      "Name: Adaptation, ID: EXH_01, Average Rating: 1.93\n",
      "Name: Measureless to Man, ID: EXH_00, Average Rating: 1.92\n",
      "Name: The Crenshaw Collection, ID: EXH_02, Average Rating: 1.43\n",
      "Name: Our Polluted World, ID: EXH_04, Average Rating: 1.22\n"
     ]
    }
   ],
   "source": [
    "with conn.cursor() as cur:\n",
    "    query = \"\"\"\n",
    "        SELECT\n",
    "            e.exhibition_name,\n",
    "            e.public_id,\n",
    "            ROUND(AVG(r.rating_value), 2) avg_rating\n",
    "        FROM rating_interaction\n",
    "        JOIN rating r USING(rating_id)\n",
    "        JOIN exhibition e USING(exhibition_id)\n",
    "        GROUP BY e.public_id, e.exhibition_name\n",
    "        ORDER BY avg_rating DESC\n",
    "        ;\n",
    "    \"\"\"\n",
    "    cur.execute(query)\n",
    "    avg_ratings = cur.fetchall()\n",
    "for row in avg_ratings:\n",
    "    print(f\"Name: {row['exhibition_name']}, ID: {row['public_id']}, Average Rating: {row['avg_rating']}\")"
   ]
  },
  {
   "cell_type": "markdown",
   "metadata": {},
   "source": [
    "Considering the mappings of the rating values (0-4) to the descriptions (Terrible - Amazing), the Cetacean Sensations also had the highest average rating at 2.83. This is on the upper side of Neutral, but closer to an average rating description of Good. The lowest average rating was for Our Polluted World, at a measly 1.22/4, which is closer to Bad than Neutral."
   ]
  },
  {
   "cell_type": "markdown",
   "metadata": {},
   "source": [
    "### 5. Are positive ratings more frequent before or after 1pm?"
   ]
  },
  {
   "cell_type": "code",
   "execution_count": 11,
   "metadata": {},
   "outputs": [
    {
     "name": "stdout",
     "output_type": "stream",
     "text": [
      "After 1pm: 344 positive ratings\n",
      "Before 1pm: 313 positive ratings\n"
     ]
    }
   ],
   "source": [
    "with conn.cursor() as cur:\n",
    "    query = \"\"\"\n",
    "        SELECT\n",
    "            CASE\n",
    "                WHEN EXTRACT(HOUR FROM ri.event_at) < 13 THEN 'Before 1pm'\n",
    "                ELSE 'After 1pm'\n",
    "            END time_of_day,\n",
    "            COUNT(CASE WHEN r.rating_value >= 3 THEN 1 END) AS positive_ratings_count\n",
    "        FROM rating_interaction ri\n",
    "        JOIN rating r USING(rating_id)\n",
    "        GROUP BY time_of_day\n",
    "        ORDER BY time_of_day\n",
    "        ;\n",
    "    \"\"\"\n",
    "    cur.execute(query)\n",
    "    positive_ratings = cur.fetchall()\n",
    "for row in positive_ratings:\n",
    "    time_of_day = row['time_of_day']\n",
    "    pos_count = row['positive_ratings_count']\n",
    "    print(f\"{time_of_day}: {pos_count} positive ratings\")"
   ]
  },
  {
   "cell_type": "markdown",
   "metadata": {},
   "source": [
    "Positive ratings were classified as having a value equal or greater than 3, which directly corresponds to the description of Good or Amazing. The data shows that more positive ratings were received after 1pm, however there is a fine margin of only about 10% of the amount before 1pm. "
   ]
  },
  {
   "cell_type": "markdown",
   "metadata": {},
   "source": [
    "### 6. Do Zoology exhibitions get better ratings than other types?"
   ]
  },
  {
   "cell_type": "code",
   "execution_count": 13,
   "metadata": {},
   "outputs": [
    {
     "name": "stdout",
     "output_type": "stream",
     "text": [
      "Zoology: 2.20 average rating\n",
      "Other Departments: 1.64 average rating\n"
     ]
    }
   ],
   "source": [
    "with conn.cursor() as cur:\n",
    "    query = \"\"\"\n",
    "        SELECT\n",
    "            CASE\n",
    "                WHEN d.department_name = 'Zoology' THEN 'Zoology'\n",
    "                ELSE 'Other Departments'\n",
    "            END department,\n",
    "            ROUND(AVG(r.rating_value), 2) avg_rating\n",
    "        FROM rating_interaction ri\n",
    "        JOIN rating r USING(rating_id)\n",
    "        JOIN exhibition e USING(exhibition_id)\n",
    "        JOIN department d USING(department_id)\n",
    "        GROUP BY department\n",
    "        ORDER BY department DESC\n",
    "        ;\n",
    "    \"\"\"\n",
    "    cur.execute(query)\n",
    "    dep_avg_rating_zoo = cur.fetchall()\n",
    "for row in dep_avg_rating_zoo:\n",
    "    dep = row['department']\n",
    "    print(f\"{dep}: {row['avg_rating']} average rating\")"
   ]
  },
  {
   "cell_type": "markdown",
   "metadata": {},
   "source": [
    "The above data shows that the Zoology department's exhibitions actually get a higher average rating than other departments. With 2.2/4, the average rating for Zoology is between Neutral and Good, whereas other department's average rating falls below the Neutral category at 1.64/4."
   ]
  },
  {
   "cell_type": "code",
   "execution_count": 22,
   "metadata": {},
   "outputs": [],
   "source": [
    "conn.close()"
   ]
  },
  {
   "cell_type": "code",
   "execution_count": null,
   "metadata": {},
   "outputs": [],
   "source": []
  }
 ],
 "metadata": {
  "kernelspec": {
   "display_name": ".venv",
   "language": "python",
   "name": "python3"
  },
  "language_info": {
   "codemirror_mode": {
    "name": "ipython",
    "version": 3
   },
   "file_extension": ".py",
   "mimetype": "text/x-python",
   "name": "python",
   "nbconvert_exporter": "python",
   "pygments_lexer": "ipython3",
   "version": "3.13.0"
  }
 },
 "nbformat": 4,
 "nbformat_minor": 2
}
