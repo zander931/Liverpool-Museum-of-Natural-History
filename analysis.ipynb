{
 "cells": [
  {
   "cell_type": "markdown",
   "metadata": {},
   "source": [
    "# Analysis on Museum Visitor data"
   ]
  },
  {
   "cell_type": "code",
   "execution_count": 6,
   "metadata": {},
   "outputs": [],
   "source": [
    "from os import environ as ENV\n",
    "from psycopg2 import connect\n",
    "from psycopg2.extensions import connection\n",
    "from psycopg2.extras import RealDictCursor\n",
    "from dotenv import load_dotenv"
   ]
  },
  {
   "cell_type": "code",
   "execution_count": 7,
   "metadata": {},
   "outputs": [
    {
     "data": {
      "text/plain": [
       "True"
      ]
     },
     "execution_count": 7,
     "metadata": {},
     "output_type": "execute_result"
    }
   ],
   "source": [
    "load_dotenv()"
   ]
  },
  {
   "cell_type": "code",
   "execution_count": 8,
   "metadata": {},
   "outputs": [],
   "source": [
    "conn = connect(database=ENV['DB_NAME'], cursor_factory=RealDictCursor)"
   ]
  },
  {
   "cell_type": "markdown",
   "metadata": {},
   "source": [
    "### 1. What exhibition is most frequently visited?"
   ]
  },
  {
   "cell_type": "code",
   "execution_count": 11,
   "metadata": {},
   "outputs": [
    {
     "name": "stdout",
     "output_type": "stream",
     "text": [
      "Exhibition: EXH_04, Name: Our Polluted World, Count: 481\n"
     ]
    }
   ],
   "source": [
    "with conn.cursor() as cur:\n",
    "    query = \"\"\"\n",
    "        SELECT \n",
    "            e.public_id Exhibition,\n",
    "            e.exhibition_name,\n",
    "            count(exhibition_id) \n",
    "        FROM rating_interaction\n",
    "        join exhibition e using(exhibition_id)\n",
    "        GROUP BY public_id, e.exhibition_name\n",
    "        ORDER BY count DESC\n",
    "        LIMIT 1;\n",
    "    \"\"\"\n",
    "    cur.execute(query)\n",
    "    most_visited = cur.fetchone()\n",
    "print(f\"Exhibition: {most_visited['exhibition']}, Name: {most_visited['exhibition_name']}, Count: {most_visited['count']}\")"
   ]
  },
  {
   "cell_type": "markdown",
   "metadata": {},
   "source": [
    "More people interact with the kiosks if more people visit the exhibits, thus the largest number of ratings coincides with the most frequently visited exhibition."
   ]
  },
  {
   "cell_type": "markdown",
   "metadata": {},
   "source": [
    "### What hour of the day has the most ratings?"
   ]
  },
  {
   "cell_type": "code",
   "execution_count": null,
   "metadata": {},
   "outputs": [],
   "source": []
  }
 ],
 "metadata": {
  "kernelspec": {
   "display_name": ".venv",
   "language": "python",
   "name": "python3"
  },
  "language_info": {
   "codemirror_mode": {
    "name": "ipython",
    "version": 3
   },
   "file_extension": ".py",
   "mimetype": "text/x-python",
   "name": "python",
   "nbconvert_exporter": "python",
   "pygments_lexer": "ipython3",
   "version": "3.13.0"
  }
 },
 "nbformat": 4,
 "nbformat_minor": 2
}
